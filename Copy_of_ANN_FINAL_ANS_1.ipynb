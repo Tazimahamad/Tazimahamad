{
  "nbformat": 4,
  "nbformat_minor": 0,
  "metadata": {
    "colab": {
      "provenance": [],
      "include_colab_link": true
    },
    "kernelspec": {
      "name": "python3",
      "display_name": "Python 3"
    },
    "language_info": {
      "name": "python"
    }
  },
  "cells": [
    {
      "cell_type": "markdown",
      "metadata": {
        "id": "view-in-github",
        "colab_type": "text"
      },
      "source": [
        "<a href=\"https://colab.research.google.com/github/Tazimahamad/Tazimahamad/blob/main/Copy_of_ANN_FINAL_ANS_1.ipynb\" target=\"_parent\"><img src=\"https://colab.research.google.com/assets/colab-badge.svg\" alt=\"Open In Colab\"/></a>"
      ]
    },
    {
      "cell_type": "code",
      "source": [
        "import numpy as np\n",
        "import skfuzzy as fuzz\n",
        "from skfuzzy import control as ctrl\n",
        "\n",
        "# Define linguistic variables and membership functions\n",
        "temperature_indoor = ctrl.Antecedent(np.arange(0, 41, 1), 'temperature_indoor')\n",
        "temperature_indoor['cold'] = fuzz.trimf(temperature_indoor.universe, [0, 0, 15])\n",
        "temperature_indoor['cool'] = fuzz.trimf(temperature_indoor.universe, [10, 20, 30])\n",
        "temperature_indoor['neutral'] = fuzz.trimf(temperature_indoor.universe, [25, 30, 35])\n",
        "temperature_indoor['warm'] = fuzz.trimf(temperature_indoor.universe, [30, 35, 40])\n",
        "temperature_indoor['hot'] = fuzz.trimf(temperature_indoor.universe, [25, 40, 40])\n",
        "\n",
        "temperature_outdoor = ctrl.Antecedent(np.arange(-10, 41, 1), 'temperature_outdoor')\n",
        "temperature_outdoor['very_cold'] = fuzz.trimf(temperature_outdoor.universe, [-10, -10, 0])\n",
        "temperature_outdoor['cold'] = fuzz.trimf(temperature_outdoor.universe, [0, 5, 15])\n",
        "temperature_outdoor['mild'] = fuzz.trimf(temperature_outdoor.universe, [10, 20, 30])\n",
        "temperature_outdoor['warm'] = fuzz.trimf(temperature_outdoor.universe, [25, 30, 35])\n",
        "temperature_outdoor['hot'] = fuzz.trimf(temperature_outdoor.universe, [30, 40, 40])\n",
        "\n",
        "time_of_day = ctrl.Antecedent(np.arange(0, 24, 1), 'time_of_day')\n",
        "time_of_day['morning'] = fuzz.trimf(time_of_day.universe, [0, 0, 6])\n",
        "time_of_day['afternoon'] = fuzz.trimf(time_of_day.universe, [9, 12, 15])\n",
        "time_of_day['evening'] = fuzz.trimf(time_of_day.universe, [16, 18, 21])\n",
        "time_of_day['night'] = fuzz.trimf(time_of_day.universe, [20, 24, 24])\n",
        "\n",
        "user_preference = ctrl.Antecedent(np.arange(0, 11, 1), 'user_preference')\n",
        "user_preference['cold'] = fuzz.trimf(user_preference.universe, [0, 0, 3])\n",
        "user_preference['cool'] = fuzz.trimf(user_preference.universe, [2, 5, 7])\n",
        "user_preference['neutral'] = fuzz.trimf(user_preference.universe, [6, 6, 8])\n",
        "user_preference['warm'] = fuzz.trimf(user_preference.universe, [7, 9, 10])\n",
        "user_preference['hot'] = fuzz.trimf(user_preference.universe, [8, 10, 10])\n",
        "\n",
        "control_signal = ctrl.Consequent(np.arange(-5, 6, 1), 'control_signal')\n",
        "control_signal['decrease'] = fuzz.trimf(control_signal.universe, [-5, -5, 0])\n",
        "control_signal['no_change'] = fuzz.trimf(control_signal.universe, [-2, 0, 2])\n",
        "control_signal['increase'] = fuzz.trimf(control_signal.universe, [0, 5, 5])\n",
        "\n",
        "# Define fuzzy rules\n",
        "rule1 = ctrl.Rule(temperature_indoor['cold'] & temperature_outdoor['cold'], control_signal['increase'])\n",
        "rule2 = ctrl.Rule(temperature_indoor['hot'] & time_of_day['afternoon'], control_signal['decrease'])\n",
        "rule3 = ctrl.Rule(user_preference['neutral'] | temperature_outdoor['mild'], control_signal['no_change'])\n",
        "\n",
        "# Create control system\n",
        "control_system = ctrl.ControlSystem([rule1, rule2, rule3])\n",
        "thermostat_control = ctrl.ControlSystemSimulation(control_system)\n",
        "\n",
        "# Test the system\n",
        "thermostat_control.input['temperature_indoor'] = 20\n",
        "thermostat_control.input['temperature_outdoor'] = 25\n",
        "thermostat_control.input['time_of_day'] = 12\n",
        "thermostat_control.input['user_preference'] = 6\n",
        "\n",
        "thermostat_control.compute()\n",
        "\n",
        "print(\"Control Signal:\", thermostat_control.output['control_signal'])\n"
      ],
      "metadata": {
        "id": "-21MXdHFkhoP",
        "outputId": "66a5ba95-04e3-487e-b009-19219d92bd21",
        "colab": {
          "base_uri": "https://localhost:8080/"
        }
      },
      "execution_count": null,
      "outputs": [
        {
          "output_type": "stream",
          "name": "stdout",
          "text": [
            "Control Signal: -5.551115123125783e-17\n"
          ]
        }
      ]
    }
  ]
}