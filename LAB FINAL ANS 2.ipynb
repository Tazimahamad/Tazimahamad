{
  "nbformat": 4,
  "nbformat_minor": 0,
  "metadata": {
    "colab": {
      "provenance": [],
      "include_colab_link": true
    },
    "kernelspec": {
      "name": "python3",
      "display_name": "Python 3"
    },
    "language_info": {
      "name": "python"
    }
  },
  "cells": [
    {
      "cell_type": "markdown",
      "metadata": {
        "id": "view-in-github",
        "colab_type": "text"
      },
      "source": [
        "<a href=\"https://colab.research.google.com/github/Tazimahamad/Tazimahamad/blob/main/LAB%20FINAL%20ANS%202.ipynb\" target=\"_parent\"><img src=\"https://colab.research.google.com/assets/colab-badge.svg\" alt=\"Open In Colab\"/></a>"
      ]
    },
    {
      "cell_type": "code",
      "execution_count": null,
      "metadata": {
        "colab": {
          "base_uri": "https://localhost:8080/"
        },
        "id": "TMUN3ygbfV1E",
        "outputId": "0e3d255f-98a2-4637-faa2-476808880d70"
      },
      "outputs": [
        {
          "output_type": "stream",
          "name": "stdout",
          "text": [
            "Training set shape: (8, 2)\n",
            "Testing set shape: (2, 2)\n"
          ]
        }
      ],
      "source": [
        "import pandas as pd\n",
        "from sklearn.model_selection import train_test_split\n",
        "\n",
        "# Define the dataset\n",
        "data = {\n",
        "    'Text': [\n",
        "        \"The shadows whisper secrets to me, urging me to take actions I know are wrong. I can't escape their grasp, no matter how hard I try.\",\n",
        "        \"The sun is shining, and the birds are singing. It's a beautiful day, and I feel grateful to be alive.\",\n",
        "        \"Every sound feels like a thousand needles piercing my brain, driving me to the brink of insanity. I can't shut them out, no matter how much I scream.\",\n",
        "        \"I'm trapped in a maze of my own thoughts, each one leading me further into darkness. I can't find the way out, no matter how desperately I search.\",\n",
        "        \"The world around me feels distorted and unreal, like I'm living in a nightmare I can't wake up from. I can't trust my own senses, no matter how hard I try.\",\n",
        "        \"I'm drowning in a sea of emotions, each one threatening to overwhelm me completely. I can't find solid ground, no matter how much I struggle.\",\n",
        "        \"I'm looking forward to spending time with my friends and family this weekend. It's always nice to catch up and share laughs.\",\n",
        "        \"I've been working hard on a project at work, and I'm excited to see it come together. It's rewarding to see my efforts pay off.\",\n",
        "        \"I've been feeling a bit stressed lately, but I'm finding ways to manage it. Taking breaks and practicing self-care has been helpful.\",\n",
        "        \"I'm enjoying a quiet evening at home, reading a book and sipping tea. It's nice to unwind after a busy day.\"\n",
        "    ],\n",
        "    'Outcome': ['Sick', 'Normal', 'Sick', 'Sick', 'Sick', 'Sick', 'Normal', 'Normal', 'Normal', 'Normal']\n",
        "}\n",
        "\n",
        "# Create a DataFrame\n",
        "df = pd.DataFrame(data)\n",
        "\n",
        "# Shuffle the dataset\n",
        "df = df.sample(frac=1, random_state=42).reset_index(drop=True)\n",
        "\n",
        "# Split the dataset into training and testing sets (80% train, 20% test)\n",
        "train_df, test_df = train_test_split(df, test_size=0.2, random_state=42)\n",
        "\n",
        "# Print the shapes of the training and testing sets\n",
        "print(\"Training set shape:\", train_df.shape)\n",
        "print(\"Testing set shape:\", test_df.shape)"
      ]
    },
    {
      "cell_type": "code",
      "source": [
        "# Save training and testing datasets to CSV files\n",
        "train_df.to_csv('train_dataset.csv', index=False)\n",
        "test_df.to_csv('test_dataset.csv', index=False)\n"
      ],
      "metadata": {
        "id": "TWcKRP_kf6AT"
      },
      "execution_count": null,
      "outputs": []
    },
    {
      "cell_type": "code",
      "source": [
        "# Concatenate training and testing datasets\n",
        "dataset = pd.concat([train_df, test_df])\n",
        "\n",
        "# Save the combined dataset to a CSV file\n",
        "dataset.to_csv('dataset.csv', index=False)\n"
      ],
      "metadata": {
        "id": "gu_sQK0ygv6O"
      },
      "execution_count": null,
      "outputs": []
    },
    {
      "cell_type": "code",
      "source": [
        "import pandas as pd\n",
        "import numpy as np\n",
        "from sklearn.model_selection import train_test_split\n",
        "from sklearn.preprocessing import LabelEncoder\n",
        "from tensorflow.keras.preprocessing.text import Tokenizer\n",
        "from tensorflow.keras.preprocessing.sequence import pad_sequences\n",
        "from tensorflow.keras.models import Sequential\n",
        "from tensorflow.keras.layers import Embedding, LSTM, Dense\n",
        "\n",
        "# Load the dataset\n",
        "dataset = pd.read_csv('dataset.csv')\n",
        "\n",
        "# Preprocessing\n",
        "X = dataset['Text'].values\n",
        "y = dataset['Outcome'].values\n",
        "\n",
        "# Encode labels\n",
        "label_encoder = LabelEncoder()\n",
        "y = label_encoder.fit_transform(y)\n",
        "\n",
        "# Split the dataset into training and testing sets\n",
        "X_train, X_test, y_train, y_test = train_test_split(X, y, test_size=0.2, random_state=42)\n",
        "\n",
        "# Tokenize text\n",
        "max_words = 1000\n",
        "tokenizer = Tokenizer(num_words=max_words)\n",
        "tokenizer.fit_on_texts(X_train)\n",
        "\n",
        "X_train_seq = tokenizer.texts_to_sequences(X_train)\n",
        "X_test_seq = tokenizer.texts_to_sequences(X_test)\n",
        "\n",
        "# Padding sequences\n",
        "max_len = 100\n",
        "X_train_pad = pad_sequences(X_train_seq, maxlen=max_len)\n",
        "X_test_pad = pad_sequences(X_test_seq, maxlen=max_len)\n",
        "\n",
        "# Define the model\n",
        "model = Sequential([\n",
        "    Embedding(input_dim=max_words, output_dim=128, input_length=max_len),\n",
        "    LSTM(64),\n",
        "    Dense(1, activation='sigmoid')\n",
        "])\n",
        "\n",
        "# Compile the model\n",
        "model.compile(optimizer='adam', loss='binary_crossentropy', metrics=['accuracy'])\n",
        "\n",
        "# Train the model\n",
        "model.fit(X_train_pad, y_train, epochs=5, batch_size=32, validation_split=0.2)\n",
        "\n",
        "# Evaluate the model\n",
        "loss, accuracy = model.evaluate(X_test_pad, y_test)\n",
        "print(\"Test Accuracy:\", accuracy)\n"
      ],
      "metadata": {
        "colab": {
          "base_uri": "https://localhost:8080/"
        },
        "id": "DCpLocwNg2qT",
        "outputId": "bcd0b4d1-1db3-47a6-8120-6dc470f3c149"
      },
      "execution_count": null,
      "outputs": [
        {
          "output_type": "stream",
          "name": "stdout",
          "text": [
            "Epoch 1/5\n",
            "1/1 [==============================] - 3s 3s/step - loss: 0.6949 - accuracy: 0.3333 - val_loss: 0.6981 - val_accuracy: 0.0000e+00\n",
            "Epoch 2/5\n",
            "1/1 [==============================] - 0s 97ms/step - loss: 0.6855 - accuracy: 0.6667 - val_loss: 0.6963 - val_accuracy: 0.0000e+00\n",
            "Epoch 3/5\n",
            "1/1 [==============================] - 0s 79ms/step - loss: 0.6759 - accuracy: 0.8333 - val_loss: 0.6945 - val_accuracy: 0.5000\n",
            "Epoch 4/5\n",
            "1/1 [==============================] - 0s 105ms/step - loss: 0.6656 - accuracy: 1.0000 - val_loss: 0.6926 - val_accuracy: 0.5000\n",
            "Epoch 5/5\n",
            "1/1 [==============================] - 0s 91ms/step - loss: 0.6544 - accuracy: 1.0000 - val_loss: 0.6906 - val_accuracy: 0.5000\n",
            "1/1 [==============================] - 0s 34ms/step - loss: 0.6759 - accuracy: 0.5000\n",
            "Test Accuracy: 0.5\n"
          ]
        }
      ]
    }
  ]
}